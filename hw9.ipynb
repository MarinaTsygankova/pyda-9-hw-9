{
 "cells": [
  {
   "cell_type": "markdown",
   "metadata": {},
   "source": [
    "# Домашнее задание. \n",
    "# Регулярные выражения и основы синтаксического разбора."
   ]
  },
  {
   "cell_type": "markdown",
   "metadata": {},
   "source": [
    "## Задание 1.\n",
    "\n",
    "Напишите функцию, которая принимает на вход строку и проверяет является ли она валидным транспортным номером. Если да, то функция должна возвращать отдельно номер и регион.\n",
    "\n",
    "### Рассмотрела только один тип одной группы транспортных номеров."
   ]
  },
  {
   "cell_type": "code",
   "execution_count": 12,
   "metadata": {},
   "outputs": [],
   "source": [
    "import re"
   ]
  },
  {
   "cell_type": "code",
   "execution_count": 417,
   "metadata": {},
   "outputs": [],
   "source": [
    "def check_number(number):\n",
    "    \"\"\"\n",
    "    Функция на вход принимает транспортный номер в виде строки и проверяет его на валидность. \n",
    "    В случае валидного номера функция возвращает номер и код региона в формате (номер, код региона).\n",
    "    \"\"\"\n",
    "    number = ''.join(number.split())\n",
    "    if not re.match(r'^(([А-Я]{1})([0-9]{3})([А-Я]{2})([0-9]{2,3}))$', number):\n",
    "        print(f'Номер не валидный.')\n",
    "    else:\n",
    "        _str = re.split(r'^(([А-Я]{1})([0-9]{3})([А-Я]{2})([0-9]{2,3}))$', number)\n",
    "        return _str[3], _str[5]"
   ]
  },
  {
   "cell_type": "code",
   "execution_count": 418,
   "metadata": {},
   "outputs": [],
   "source": [
    "str1 = 'Е050КХ99'"
   ]
  },
  {
   "cell_type": "code",
   "execution_count": 419,
   "metadata": {},
   "outputs": [
    {
     "data": {
      "text/plain": [
       "('050', '99')"
      ]
     },
     "execution_count": 419,
     "metadata": {},
     "output_type": "execute_result"
    }
   ],
   "source": [
    "check_number(str1)"
   ]
  },
  {
   "cell_type": "code",
   "execution_count": 420,
   "metadata": {},
   "outputs": [],
   "source": [
    "str2 = 'e05kx99'"
   ]
  },
  {
   "cell_type": "code",
   "execution_count": 421,
   "metadata": {},
   "outputs": [
    {
     "name": "stdout",
     "output_type": "stream",
     "text": [
      "Номер не валидный.\n"
     ]
    }
   ],
   "source": [
    "check_number(str2)"
   ]
  },
  {
   "cell_type": "markdown",
   "metadata": {},
   "source": [
    "## Задание 2.\n",
    "Постарайтесь написать (в крайнем случае найти) самый полный шаблон для проверки e-mail адресов через регулярное выражение, которая проверяет e-mail адрес на валидность. Можно руководствоваться следующими минимальными требованиями:  \n",
    "• адрес должен содержать специальный символ “@”, который отделяет имя пользователя почтовой системы от доменного имени;  \n",
    "• адрес не должен содержать следующие символы: “пробел”, “,”, “:”, “;”, “!”, “#”, “%”, “*”, “(”, “)”, “=”, “+”, “{”, “}”, \" \" \", \" ’ \", \" / \", \" \\ \" и “|”;  \n",
    "• адрес должен состоять только из латинских символов;  \n",
    "• после символа “@” должна быть как минимум одна “.”;  \n",
    "• после последней точки должно быть не менее 2-х и не более 4-х символов, причем наличие цифр не допускается;  \n",
    "• между последней точкой и символом “@” должно быть не менее 2-х символов  \n",
    "• слева от “@” должно быть не менее четырех символов  "
   ]
  },
  {
   "cell_type": "code",
   "execution_count": 388,
   "metadata": {},
   "outputs": [],
   "source": [
    "def check_email(mail):\n",
    "    if not re.match(r'^(([-0-9A-Za-z]{4,})@([-0-9A-Za-z]{2,}\\.){1,2}[-A-Za-z]{2,4})$', mail):\n",
    "        print('bad')\n",
    "    else:\n",
    "        print('ok')"
   ]
  },
  {
   "cell_type": "code",
   "execution_count": 389,
   "metadata": {},
   "outputs": [
    {
     "name": "stdout",
     "output_type": "stream",
     "text": [
      "bad\n"
     ]
    }
   ],
   "source": [
    "email = 'babani=nami@icloud.com'\n",
    "check_email(email)"
   ]
  },
  {
   "cell_type": "code",
   "execution_count": 390,
   "metadata": {},
   "outputs": [
    {
     "name": "stdout",
     "output_type": "stream",
     "text": [
      "bad\n"
     ]
    }
   ],
   "source": [
    "email = 'babani!nami@icloud.com'\n",
    "check_email(email)"
   ]
  },
  {
   "cell_type": "code",
   "execution_count": 391,
   "metadata": {},
   "outputs": [
    {
     "name": "stdout",
     "output_type": "stream",
     "text": [
      "bad\n"
     ]
    }
   ],
   "source": [
    "email = 'Бабанинаmi@icloud.com'\n",
    "check_email(email)"
   ]
  },
  {
   "cell_type": "code",
   "execution_count": 392,
   "metadata": {},
   "outputs": [
    {
     "name": "stdout",
     "output_type": "stream",
     "text": [
      "bad\n"
     ]
    }
   ],
   "source": [
    "email = 'babaninami@icloud.c'\n",
    "check_email(email)"
   ]
  },
  {
   "cell_type": "code",
   "execution_count": 393,
   "metadata": {},
   "outputs": [
    {
     "name": "stdout",
     "output_type": "stream",
     "text": [
      "ok\n"
     ]
    }
   ],
   "source": [
    "email = 'babaninami@icloud.com'\n",
    "check_email(email)"
   ]
  },
  {
   "cell_type": "code",
   "execution_count": 394,
   "metadata": {},
   "outputs": [
    {
     "name": "stdout",
     "output_type": "stream",
     "text": [
      "bad\n"
     ]
    }
   ],
   "source": [
    "email = 'babaninami@icloud.commu'\n",
    "check_email(email)"
   ]
  },
  {
   "cell_type": "code",
   "execution_count": 395,
   "metadata": {},
   "outputs": [
    {
     "name": "stdout",
     "output_type": "stream",
     "text": [
      "bad\n"
     ]
    }
   ],
   "source": [
    "email = 'babaninami@icloud.c5om'\n",
    "check_email(email)"
   ]
  },
  {
   "cell_type": "code",
   "execution_count": 396,
   "metadata": {},
   "outputs": [
    {
     "name": "stdout",
     "output_type": "stream",
     "text": [
      "bad\n"
     ]
    }
   ],
   "source": [
    "email = 'babaninami@i.com'\n",
    "check_email(email)"
   ]
  },
  {
   "cell_type": "code",
   "execution_count": 397,
   "metadata": {},
   "outputs": [
    {
     "name": "stdout",
     "output_type": "stream",
     "text": [
      "bad\n"
     ]
    }
   ],
   "source": [
    "email = 'bab@icloud.com'\n",
    "check_email(email)"
   ]
  },
  {
   "cell_type": "markdown",
   "metadata": {},
   "source": [
    "## Задание 3.\n",
    "\n",
    "Напишите функцию, которая будет удалять все последовательные повторы слов из заданной строки при помощи регулярных выражений."
   ]
  },
  {
   "cell_type": "code",
   "execution_count": 187,
   "metadata": {},
   "outputs": [],
   "source": [
    "def delete_repeat(text):\n",
    "    \"\"\"\n",
    "    Функция удаляет все последовательные повторы слов из заданной строки.\n",
    "    \"\"\"\n",
    "    return re.sub(r'\\b(\\w+)(\\s\\1)+\\b', r'\\1', re.sub(r'\\W+', ' ', text).strip(), flags=re.I)"
   ]
  },
  {
   "cell_type": "code",
   "execution_count": 188,
   "metadata": {},
   "outputs": [],
   "source": [
    "s = \"Очень очень очень надо НАДО как-то решить рЕшить это ! задание.\""
   ]
  },
  {
   "cell_type": "code",
   "execution_count": 189,
   "metadata": {},
   "outputs": [
    {
     "data": {
      "text/plain": [
       "'Очень надо как то решить это задание'"
      ]
     },
     "execution_count": 189,
     "metadata": {},
     "output_type": "execute_result"
    }
   ],
   "source": [
    "delete_repeat(s)"
   ]
  },
  {
   "cell_type": "markdown",
   "metadata": {},
   "source": [
    "## Задание 4.\n",
    "\n",
    "Напишите функцию, которая будет проверять номер сотового телефона на валидность, если он валиден, то переводить его в формат:  \n",
    "+7(xxx)-xxx-xx-xx\n",
    "\n",
    "Примеры валидных форматов:  \n",
    "• +7 955 555-55-55;  \n",
    "• 9555555555;  \n",
    "• 8(955)555-55-55;  \n",
    "• +7 955 555 55 55;  \n",
    "• 7(955) 555-55-55;  \n",
    "• +7 955+555+55+55.  "
   ]
  },
  {
   "cell_type": "code",
   "execution_count": 479,
   "metadata": {},
   "outputs": [],
   "source": [
    "# if re.match(r'^((\\+7)\\s([0-9]{3})\\s([0-9]{3})\\-([0-9]{2})\\-([0-9]{2}))$', numb):\n",
    "#     _str = re.split(r'^((\\+7)\\s([0-9]{3})\\s([0-9]{3})\\-([0-9]{2})\\-([0-9]{2}))$', numb)\n",
    "#     print(f'+7({_str[3]})-{_str[4]}-{_str[5]}-{_str[6]}')\n",
    "# elif re.match(r'^(([0-9]{10}))$', numb):\n",
    "#     _str = re.split(r'^(([0-9]{10}))$', numb)\n",
    "#     print(f'+7({_str[1][0:3]})-{_str[1][3:6]}-{_str[1][6:8]}-{_str[1][8:10]}')\n",
    "# elif re.match(r'^((8{1})(([0-9]{3}))([0-9]{3})-([0-9]{2})-([0-9]{2}))$', numb): \n",
    "#     _str = re.split(r'^((8{1})([0-9]))$', numb)\n",
    "#     print(_str)\n",
    "# else:\n",
    "#     print('error')\n",
    "def check_number(numb):\n",
    "    \"\"\"\n",
    "    Функция проверяет номер сотового телефона на валидность, если он валиден, то переводит его в формат:\n",
    "    +7(xxx)-xxx-xx-xx\n",
    "    \"\"\"\n",
    "    if re.match(r'(\\+7|8|7).*?(\\d{3}).*?(\\d{3}).*?(\\d{2}).*?(\\d{2})', numb):\n",
    "        _str = re.split(r'(\\+7|8|7).*?(\\d{3}).*?(\\d{3}).*?(\\d{2}).*?(\\d{2})', numb)\n",
    "        if len(_str) == 1:\n",
    "            print(f'+7({_str[1][0:3]})-{_str[1][3:6]}-{_str[1][6:8]}-{_str[1][8:10]}')\n",
    "        else:\n",
    "            print(f'+7({_str[2]})-{_str[3]}-{_str[4]}-{_str[5]}')\n",
    "    elif re.match(r'^(([0-9]{10}))$', numb):\n",
    "        _str = re.split(r'^(([0-9]{10}))$', numb)\n",
    "        print(f'+7({_str[1][0:3]})-{_str[1][3:6]}-{_str[1][6:8]}-{_str[1][8:10]}')\n",
    "    else:\n",
    "        print('Телефон не прошел провеку на валидность.')\n"
   ]
  },
  {
   "cell_type": "code",
   "execution_count": 480,
   "metadata": {},
   "outputs": [
    {
     "name": "stdout",
     "output_type": "stream",
     "text": [
      "+7(955)-555-55-55\n"
     ]
    }
   ],
   "source": [
    "check_number('+7 955 555-55-55')"
   ]
  },
  {
   "cell_type": "code",
   "execution_count": 481,
   "metadata": {},
   "outputs": [
    {
     "name": "stdout",
     "output_type": "stream",
     "text": [
      "+7(955)-555-55-55\n"
     ]
    }
   ],
   "source": [
    "check_number('9555555555')"
   ]
  },
  {
   "cell_type": "code",
   "execution_count": 482,
   "metadata": {},
   "outputs": [
    {
     "name": "stdout",
     "output_type": "stream",
     "text": [
      "+7(955)-555-55-55\n"
     ]
    }
   ],
   "source": [
    "check_number('8(955)555-55-55')"
   ]
  },
  {
   "cell_type": "code",
   "execution_count": 483,
   "metadata": {},
   "outputs": [
    {
     "name": "stdout",
     "output_type": "stream",
     "text": [
      "+7(955)-555-55-55\n"
     ]
    }
   ],
   "source": [
    "check_number('+7 955 555 55 55')"
   ]
  },
  {
   "cell_type": "code",
   "execution_count": 484,
   "metadata": {},
   "outputs": [
    {
     "name": "stdout",
     "output_type": "stream",
     "text": [
      "+7(955)-555-55-55\n"
     ]
    }
   ],
   "source": [
    "check_number('7(955) 555-55-55')"
   ]
  },
  {
   "cell_type": "code",
   "execution_count": 485,
   "metadata": {},
   "outputs": [
    {
     "name": "stdout",
     "output_type": "stream",
     "text": [
      "+7(955)-555-55-55\n"
     ]
    }
   ],
   "source": [
    "check_number('+7 955+555+55+55')"
   ]
  },
  {
   "cell_type": "code",
   "execution_count": null,
   "metadata": {},
   "outputs": [],
   "source": []
  }
 ],
 "metadata": {
  "kernelspec": {
   "display_name": "Python 3",
   "language": "python",
   "name": "python3"
  },
  "language_info": {
   "codemirror_mode": {
    "name": "ipython",
    "version": 3
   },
   "file_extension": ".py",
   "mimetype": "text/x-python",
   "name": "python",
   "nbconvert_exporter": "python",
   "pygments_lexer": "ipython3",
   "version": "3.7.6"
  }
 },
 "nbformat": 4,
 "nbformat_minor": 4
}
